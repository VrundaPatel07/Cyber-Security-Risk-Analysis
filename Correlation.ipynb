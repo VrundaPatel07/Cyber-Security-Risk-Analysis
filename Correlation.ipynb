{
 "cells": [
  {
   "cell_type": "markdown",
   "id": "f21cfcff-2b33-4e91-a6b5-a4cdb594bdb0",
   "metadata": {},
   "source": [
    "# Source from kagglehub"
   ]
  },
  {
   "cell_type": "code",
   "execution_count": 1,
   "id": "f676ec1d-e5fe-4060-9e9b-20ff418e5ed5",
   "metadata": {},
   "outputs": [
    {
     "data": {
      "text/html": [
       "<div>\n",
       "<style scoped>\n",
       "    .dataframe tbody tr th:only-of-type {\n",
       "        vertical-align: middle;\n",
       "    }\n",
       "\n",
       "    .dataframe tbody tr th {\n",
       "        vertical-align: top;\n",
       "    }\n",
       "\n",
       "    .dataframe thead th {\n",
       "        text-align: right;\n",
       "    }\n",
       "</style>\n",
       "<table border=\"1\" class=\"dataframe\">\n",
       "  <thead>\n",
       "    <tr style=\"text-align: right;\">\n",
       "      <th></th>\n",
       "      <th>Threat Category</th>\n",
       "      <th>IOCs (Indicators of Compromise)</th>\n",
       "      <th>Threat Actor</th>\n",
       "      <th>Attack Vector</th>\n",
       "      <th>Geographical Location</th>\n",
       "      <th>Sentiment in Forums</th>\n",
       "      <th>Severity Score</th>\n",
       "      <th>Predicted Threat Category</th>\n",
       "      <th>Suggested Defense Mechanism</th>\n",
       "      <th>Risk Level Prediction</th>\n",
       "      <th>Cleaned Threat Description</th>\n",
       "      <th>Keyword Extraction</th>\n",
       "      <th>Named Entities (NER)</th>\n",
       "      <th>Topic Modeling Labels</th>\n",
       "      <th>Word Count</th>\n",
       "    </tr>\n",
       "  </thead>\n",
       "  <tbody>\n",
       "    <tr>\n",
       "      <th>0</th>\n",
       "      <td>DDoS</td>\n",
       "      <td>['123.456.78.9']</td>\n",
       "      <td>APT-28</td>\n",
       "      <td>Email</td>\n",
       "      <td>North Korea</td>\n",
       "      <td>0.99</td>\n",
       "      <td>5</td>\n",
       "      <td>DDoS</td>\n",
       "      <td>Increase Web Security</td>\n",
       "      <td>4</td>\n",
       "      <td>ransomware attack through network vulnerability</td>\n",
       "      <td>['malware', 'email', 'attachment']</td>\n",
       "      <td>['CompanyY', 'Malware']</td>\n",
       "      <td>Malware</td>\n",
       "      <td>47</td>\n",
       "    </tr>\n",
       "    <tr>\n",
       "      <th>1</th>\n",
       "      <td>Malware</td>\n",
       "      <td>['10.0.0.2', 'infected.exe']</td>\n",
       "      <td>Lazarus Group</td>\n",
       "      <td>Network</td>\n",
       "      <td>USA</td>\n",
       "      <td>0.97</td>\n",
       "      <td>1</td>\n",
       "      <td>DDoS</td>\n",
       "      <td>Quarantine</td>\n",
       "      <td>4</td>\n",
       "      <td>phishing email with malicious link</td>\n",
       "      <td>['DDoS', 'website', 'attack']</td>\n",
       "      <td>['Unknown', 'Phishing Service']</td>\n",
       "      <td>Phishing</td>\n",
       "      <td>31</td>\n",
       "    </tr>\n",
       "    <tr>\n",
       "      <th>2</th>\n",
       "      <td>Phishing</td>\n",
       "      <td>['malwarehash123', 'trojan.com']</td>\n",
       "      <td>APT-28</td>\n",
       "      <td>Email</td>\n",
       "      <td>North Korea</td>\n",
       "      <td>0.87</td>\n",
       "      <td>3</td>\n",
       "      <td>Phishing</td>\n",
       "      <td>Quarantine</td>\n",
       "      <td>2</td>\n",
       "      <td>ransomware attack through network vulnerability</td>\n",
       "      <td>['phishing', 'corporate', 'scam']</td>\n",
       "      <td>['CompanyY', 'Malware']</td>\n",
       "      <td>Malware</td>\n",
       "      <td>24</td>\n",
       "    </tr>\n",
       "    <tr>\n",
       "      <th>3</th>\n",
       "      <td>DDoS</td>\n",
       "      <td>['192.168.1.1', 'malicious.com']</td>\n",
       "      <td>Lazarus Group</td>\n",
       "      <td>Web</td>\n",
       "      <td>Global</td>\n",
       "      <td>0.64</td>\n",
       "      <td>2</td>\n",
       "      <td>Phishing</td>\n",
       "      <td>Quarantine</td>\n",
       "      <td>1</td>\n",
       "      <td>phishing email with malicious link</td>\n",
       "      <td>['DDoS', 'website', 'attack']</td>\n",
       "      <td>['CompanyY', 'Malware']</td>\n",
       "      <td>DDoS</td>\n",
       "      <td>46</td>\n",
       "    </tr>\n",
       "    <tr>\n",
       "      <th>4</th>\n",
       "      <td>DDoS</td>\n",
       "      <td>['malwarehash123', 'trojan.com']</td>\n",
       "      <td>Unknown</td>\n",
       "      <td>Email</td>\n",
       "      <td>Germany</td>\n",
       "      <td>0.57</td>\n",
       "      <td>1</td>\n",
       "      <td>DDoS</td>\n",
       "      <td>Patch Vulnerability</td>\n",
       "      <td>1</td>\n",
       "      <td>phishing scam targeting corporate accounts</td>\n",
       "      <td>['DDoS', 'website', 'attack']</td>\n",
       "      <td>['Lazarus Group', 'Network Device']</td>\n",
       "      <td>DDoS</td>\n",
       "      <td>24</td>\n",
       "    </tr>\n",
       "  </tbody>\n",
       "</table>\n",
       "</div>"
      ],
      "text/plain": [
       "  Threat Category   IOCs (Indicators of Compromise)   Threat Actor  \\\n",
       "0            DDoS                  ['123.456.78.9']         APT-28   \n",
       "1         Malware      ['10.0.0.2', 'infected.exe']  Lazarus Group   \n",
       "2        Phishing  ['malwarehash123', 'trojan.com']         APT-28   \n",
       "3            DDoS  ['192.168.1.1', 'malicious.com']  Lazarus Group   \n",
       "4            DDoS  ['malwarehash123', 'trojan.com']        Unknown   \n",
       "\n",
       "  Attack Vector Geographical Location  Sentiment in Forums  Severity Score  \\\n",
       "0         Email           North Korea                 0.99               5   \n",
       "1       Network                   USA                 0.97               1   \n",
       "2         Email           North Korea                 0.87               3   \n",
       "3           Web                Global                 0.64               2   \n",
       "4         Email               Germany                 0.57               1   \n",
       "\n",
       "  Predicted Threat Category Suggested Defense Mechanism  \\\n",
       "0                      DDoS       Increase Web Security   \n",
       "1                      DDoS                  Quarantine   \n",
       "2                  Phishing                  Quarantine   \n",
       "3                  Phishing                  Quarantine   \n",
       "4                      DDoS         Patch Vulnerability   \n",
       "\n",
       "   Risk Level Prediction                       Cleaned Threat Description  \\\n",
       "0                      4  ransomware attack through network vulnerability   \n",
       "1                      4               phishing email with malicious link   \n",
       "2                      2  ransomware attack through network vulnerability   \n",
       "3                      1               phishing email with malicious link   \n",
       "4                      1       phishing scam targeting corporate accounts   \n",
       "\n",
       "                   Keyword Extraction                 Named Entities (NER)  \\\n",
       "0  ['malware', 'email', 'attachment']              ['CompanyY', 'Malware']   \n",
       "1       ['DDoS', 'website', 'attack']      ['Unknown', 'Phishing Service']   \n",
       "2   ['phishing', 'corporate', 'scam']              ['CompanyY', 'Malware']   \n",
       "3       ['DDoS', 'website', 'attack']              ['CompanyY', 'Malware']   \n",
       "4       ['DDoS', 'website', 'attack']  ['Lazarus Group', 'Network Device']   \n",
       "\n",
       "  Topic Modeling Labels  Word Count  \n",
       "0               Malware          47  \n",
       "1              Phishing          31  \n",
       "2               Malware          24  \n",
       "3                  DDoS          46  \n",
       "4                  DDoS          24  "
      ]
     },
     "execution_count": 1,
     "metadata": {},
     "output_type": "execute_result"
    }
   ],
   "source": [
    "import os\n",
    "import pandas as pd\n",
    "import kagglehub\n",
    "\n",
    "# Download the dataset\n",
    "path = kagglehub.dataset_download(\"hussainsheikh03/nlp-based-cyber-security-dataset\")\n",
    "\n",
    "# List all files and subdirectories in the directory\n",
    "files_and_subdirectories = os.listdir(path)\n",
    "csv_file_path = os.path.join(path, files_and_subdirectories[0])\n",
    "df_cybersecurity = pd.read_csv(csv_file_path)\n",
    "\n",
    "# Display the first few rows of the DataFrame\n",
    "df_cybersecurity.head()"
   ]
  },
  {
   "cell_type": "markdown",
   "id": "d9f66246-f6d6-44ee-98ce-f1c3d557df9e",
   "metadata": {},
   "source": [
    "# Source from Wb"
   ]
  },
  {
   "cell_type": "code",
   "execution_count": 3,
   "id": "dd5daa2b-043e-4c3e-8e6c-329750a679a2",
   "metadata": {},
   "outputs": [
    {
     "data": {
      "text/html": [
       "<div>\n",
       "<style scoped>\n",
       "    .dataframe tbody tr th:only-of-type {\n",
       "        vertical-align: middle;\n",
       "    }\n",
       "\n",
       "    .dataframe tbody tr th {\n",
       "        vertical-align: top;\n",
       "    }\n",
       "\n",
       "    .dataframe thead th {\n",
       "        text-align: right;\n",
       "    }\n",
       "</style>\n",
       "<table border=\"1\" class=\"dataframe\">\n",
       "  <thead>\n",
       "    <tr style=\"text-align: right;\">\n",
       "      <th></th>\n",
       "      <th>Country Name</th>\n",
       "      <th>GDP_per_capita</th>\n",
       "      <th>country</th>\n",
       "      <th>Income Level</th>\n",
       "    </tr>\n",
       "  </thead>\n",
       "  <tbody>\n",
       "    <tr>\n",
       "      <th>0</th>\n",
       "      <td>Germany</td>\n",
       "      <td>52745.755706</td>\n",
       "      <td>DE</td>\n",
       "      <td>High income</td>\n",
       "    </tr>\n",
       "    <tr>\n",
       "      <th>1</th>\n",
       "      <td>Korea, Dem. People's Rep.</td>\n",
       "      <td>0.000000</td>\n",
       "      <td>KP</td>\n",
       "      <td>Low income</td>\n",
       "    </tr>\n",
       "    <tr>\n",
       "      <th>2</th>\n",
       "      <td>Russian Federation</td>\n",
       "      <td>15941.448242</td>\n",
       "      <td>RU</td>\n",
       "      <td>High income</td>\n",
       "    </tr>\n",
       "    <tr>\n",
       "      <th>3</th>\n",
       "      <td>United States</td>\n",
       "      <td>81695.187071</td>\n",
       "      <td>US</td>\n",
       "      <td>High income</td>\n",
       "    </tr>\n",
       "    <tr>\n",
       "      <th>4</th>\n",
       "      <td>World</td>\n",
       "      <td>13138.327546</td>\n",
       "      <td>1W</td>\n",
       "      <td>Aggregates</td>\n",
       "    </tr>\n",
       "  </tbody>\n",
       "</table>\n",
       "</div>"
      ],
      "text/plain": [
       "                Country Name  GDP_per_capita country Income Level\n",
       "0                    Germany    52745.755706      DE  High income\n",
       "1  Korea, Dem. People's Rep.        0.000000      KP   Low income\n",
       "2         Russian Federation    15941.448242      RU  High income\n",
       "3              United States    81695.187071      US  High income\n",
       "4                      World    13138.327546      1W   Aggregates"
      ]
     },
     "execution_count": 3,
     "metadata": {},
     "output_type": "execute_result"
    }
   ],
   "source": [
    "import wbdata\n",
    "\n",
    "country_name_mapping = {\n",
    "    \"USA\": \"US\",\n",
    "    \"Russia\": \"RU\",\n",
    "    \"Germany\": \"DE\",\n",
    "    \"North Korea\": \"KP\",\n",
    "    \"Global\": \"1W\",\n",
    "\n",
    "    'United States': 'US',\n",
    "    'Russian Federation': 'RU',\n",
    "    'Germany': 'DE',\n",
    "    \"Korea, Dem. People's Rep.\": 'KP',\n",
    "    'World': '1W'\n",
    "}\n",
    "    \n",
    "\n",
    "indicator = {\n",
    "    \"NY.GDP.PCAP.CD\": \"GDP_per_capita\",\n",
    "}\n",
    "\n",
    "df_cybersecurity['Standardized Country'] = df_cybersecurity['Geographical Location'].map(lambda x: country_name_mapping.get(x, {}))\n",
    "countries = df_cybersecurity['Standardized Country'].unique()\n",
    "data_countries = wbdata.get_dataframe(indicator, country=countries)\n",
    "data_countries['GDP_per_capita'] = data_countries['GDP_per_capita'].fillna(0)\n",
    "max_gdp_per_year = data_countries.groupby('country')['GDP_per_capita'].max().reset_index()\n",
    "max_gdp_per_year.rename(columns={'country': 'Country Name'}, inplace=True)\n",
    "max_gdp_per_year['country'] = max_gdp_per_year['Country Name'].map(lambda x: country_name_mapping.get(x, {}))\n",
    "\n",
    "max_gdp_per_year\n",
    "\n",
    "# Function to obtain income levels\n",
    "def get_income_levels(selected_countries):\n",
    "    # Obtener todos los países desde la API\n",
    "    countries_list = list(wbdata.get_countries())\n",
    "    \n",
    "    # Create an income level dictionary\n",
    "    income_levels = {}\n",
    "    for country in countries_list:\n",
    "        iso2Code = country['iso2Code']\n",
    "        incomeLevel = country['incomeLevel']['value']\n",
    "        income_levels[iso2Code] = incomeLevel\n",
    "    \n",
    "    # Filter the selected countries\n",
    "    filtered_income_levels = {\n",
    "        country: income_levels.get(country, \"Not Available\")\n",
    "        for country in selected_countries\n",
    "    }\n",
    "    \n",
    "    #Convert to DataFrame for better display\n",
    "    return pd.DataFrame(\n",
    "        list(filtered_income_levels.items()), \n",
    "        columns=[\"country\", \"Income Level\"]\n",
    "    )\n",
    "\n",
    "income_levels_df = get_income_levels(countries)\n",
    "\n",
    "\n",
    "result = pd.merge(max_gdp_per_year, income_levels_df, on='country', how='inner')\n",
    "\n",
    "result\n"
   ]
  },
  {
   "cell_type": "markdown",
   "id": "a0b7657c-f278-41ad-a914-4de2004ea68e",
   "metadata": {},
   "source": [
    "# Correlation Analysis"
   ]
  },
  {
   "cell_type": "markdown",
   "id": "ee91b8cd-8ba4-492b-9133-efa878c7681a",
   "metadata": {},
   "source": [
    "### Grouping the data "
   ]
  },
  {
   "cell_type": "code",
   "execution_count": 6,
   "id": "e68922f4-985d-446f-903f-809c13fae5a7",
   "metadata": {},
   "outputs": [
    {
     "data": {
      "text/html": [
       "<div>\n",
       "<style scoped>\n",
       "    .dataframe tbody tr th:only-of-type {\n",
       "        vertical-align: middle;\n",
       "    }\n",
       "\n",
       "    .dataframe tbody tr th {\n",
       "        vertical-align: top;\n",
       "    }\n",
       "\n",
       "    .dataframe thead th {\n",
       "        text-align: right;\n",
       "    }\n",
       "</style>\n",
       "<table border=\"1\" class=\"dataframe\">\n",
       "  <thead>\n",
       "    <tr style=\"text-align: right;\">\n",
       "      <th></th>\n",
       "      <th>Standardized Country</th>\n",
       "      <th>Severity Score</th>\n",
       "      <th>Risk Level Prediction</th>\n",
       "      <th>Attack Vector</th>\n",
       "      <th>Country Name</th>\n",
       "      <th>GDP_per_capita</th>\n",
       "      <th>country</th>\n",
       "      <th>Income Level</th>\n",
       "    </tr>\n",
       "  </thead>\n",
       "  <tbody>\n",
       "    <tr>\n",
       "      <th>0</th>\n",
       "      <td>1W</td>\n",
       "      <td>2.906383</td>\n",
       "      <td>2.931915</td>\n",
       "      <td>235</td>\n",
       "      <td>World</td>\n",
       "      <td>13138.327546</td>\n",
       "      <td>1W</td>\n",
       "      <td>Aggregates</td>\n",
       "    </tr>\n",
       "    <tr>\n",
       "      <th>1</th>\n",
       "      <td>DE</td>\n",
       "      <td>3.022422</td>\n",
       "      <td>2.950673</td>\n",
       "      <td>223</td>\n",
       "      <td>Germany</td>\n",
       "      <td>52745.755706</td>\n",
       "      <td>DE</td>\n",
       "      <td>High income</td>\n",
       "    </tr>\n",
       "    <tr>\n",
       "      <th>2</th>\n",
       "      <td>KP</td>\n",
       "      <td>3.033493</td>\n",
       "      <td>2.808612</td>\n",
       "      <td>209</td>\n",
       "      <td>Korea, Dem. People's Rep.</td>\n",
       "      <td>0.000000</td>\n",
       "      <td>KP</td>\n",
       "      <td>Low income</td>\n",
       "    </tr>\n",
       "    <tr>\n",
       "      <th>3</th>\n",
       "      <td>RU</td>\n",
       "      <td>3.137441</td>\n",
       "      <td>2.895735</td>\n",
       "      <td>211</td>\n",
       "      <td>Russian Federation</td>\n",
       "      <td>15941.448242</td>\n",
       "      <td>RU</td>\n",
       "      <td>High income</td>\n",
       "    </tr>\n",
       "    <tr>\n",
       "      <th>4</th>\n",
       "      <td>US</td>\n",
       "      <td>2.864865</td>\n",
       "      <td>2.923423</td>\n",
       "      <td>222</td>\n",
       "      <td>United States</td>\n",
       "      <td>81695.187071</td>\n",
       "      <td>US</td>\n",
       "      <td>High income</td>\n",
       "    </tr>\n",
       "  </tbody>\n",
       "</table>\n",
       "</div>"
      ],
      "text/plain": [
       "  Standardized Country  Severity Score  Risk Level Prediction  Attack Vector  \\\n",
       "0                   1W        2.906383               2.931915            235   \n",
       "1                   DE        3.022422               2.950673            223   \n",
       "2                   KP        3.033493               2.808612            209   \n",
       "3                   RU        3.137441               2.895735            211   \n",
       "4                   US        2.864865               2.923423            222   \n",
       "\n",
       "                Country Name  GDP_per_capita country Income Level  \n",
       "0                      World    13138.327546      1W   Aggregates  \n",
       "1                    Germany    52745.755706      DE  High income  \n",
       "2  Korea, Dem. People's Rep.        0.000000      KP   Low income  \n",
       "3         Russian Federation    15941.448242      RU  High income  \n",
       "4              United States    81695.187071      US  High income  "
      ]
     },
     "execution_count": 6,
     "metadata": {},
     "output_type": "execute_result"
    }
   ],
   "source": [
    "grouped_cybersecurity = df_cybersecurity.groupby('Standardized Country').agg({\n",
    "    'Severity Score': 'mean',\n",
    "    'Risk Level Prediction': 'mean',\n",
    "    'Attack Vector': 'count'\n",
    "}).reset_index()\n",
    "\n",
    "final_data = grouped_cybersecurity.merge(result, left_on='Standardized Country', right_on='country')\n",
    "\n",
    "final_data\n"
   ]
  },
  {
   "cell_type": "markdown",
   "id": "119d1ff7-b87c-4aba-b49b-5d900c5b3244",
   "metadata": {},
   "source": [
    "### Correlation analysis"
   ]
  },
  {
   "cell_type": "code",
   "execution_count": 29,
   "id": "a216b82e-e549-4541-b2b5-fb9333fcb0db",
   "metadata": {},
   "outputs": [],
   "source": [
    "# Correlation between variables\n",
    "correlation_gdp_severity = final_data['GDP_per_capita'].corr(final_data['Severity Score'])\n",
    "correlation_income_severity = final_data['Income Level'].apply(lambda x: 1 if x == 'High income' else 0).corr(final_data['Severity Score'])\n",
    "correlation_gdp_risk = final_data['GDP_per_capita'].corr(final_data['Risk Level Prediction'])\n",
    "correlation_income_risk = final_data['Income Level'].apply(lambda x: 1 if x == 'High income' else 0).corr(final_data['Risk Level Prediction'])\n"
   ]
  },
  {
   "cell_type": "code",
   "execution_count": 31,
   "id": "3bafb1c3-9648-4694-b79e-501d5dc022f3",
   "metadata": {},
   "outputs": [
    {
     "data": {
      "text/plain": [
       "-0.5284244821417033"
      ]
     },
     "execution_count": 31,
     "metadata": {},
     "output_type": "execute_result"
    }
   ],
   "source": [
    "correlation_gdp_severity"
   ]
  },
  {
   "cell_type": "code",
   "execution_count": 33,
   "id": "8212265a-2f83-48d9-ab58-342c3a3f4c32",
   "metadata": {},
   "outputs": [
    {
     "data": {
      "text/plain": [
       "0.19295577181792917"
      ]
     },
     "execution_count": 33,
     "metadata": {},
     "output_type": "execute_result"
    }
   ],
   "source": [
    "correlation_income_severity"
   ]
  },
  {
   "cell_type": "code",
   "execution_count": 35,
   "id": "3d71f438-e86c-4d46-99a6-2d66a7112fd4",
   "metadata": {},
   "outputs": [
    {
     "data": {
      "text/plain": [
       "0.611213570776033"
      ]
     },
     "execution_count": 35,
     "metadata": {},
     "output_type": "execute_result"
    }
   ],
   "source": [
    "correlation_gdp_risk"
   ]
  },
  {
   "cell_type": "code",
   "execution_count": 37,
   "id": "542fcae6-f103-4d7f-a871-860f23187016",
   "metadata": {},
   "outputs": [
    {
     "data": {
      "text/plain": [
       "0.5197675213852708"
      ]
     },
     "execution_count": 37,
     "metadata": {},
     "output_type": "execute_result"
    }
   ],
   "source": [
    "correlation_income_risk"
   ]
  },
  {
   "cell_type": "code",
   "execution_count": 57,
   "id": "aa16d813-c30c-449d-8c3a-bd749a11821a",
   "metadata": {},
   "outputs": [
    {
     "name": "stdout",
     "output_type": "stream",
     "text": [
      "coefficients: [ 0.10246969 -1.21036228]\n"
     ]
    },
    {
     "name": "stderr",
     "output_type": "stream",
     "text": [
      "C:\\Users\\paula\\AppData\\Local\\Temp\\ipykernel_42264\\3143034116.py:6: SettingWithCopyWarning: \n",
      "A value is trying to be set on a copy of a slice from a DataFrame.\n",
      "Try using .loc[row_indexer,col_indexer] = value instead\n",
      "\n",
      "See the caveats in the documentation: https://pandas.pydata.org/pandas-docs/stable/user_guide/indexing.html#returning-a-view-versus-a-copy\n",
      "  X['Income Level'] = X['Income Level'].apply(lambda x: 1 if x == 'High income' else 0)\n"
     ]
    }
   ],
   "source": [
    "from sklearn.linear_model import LinearRegression\n",
    "\n",
    "# Preparing the data\n",
    "X = final_data[['Income Level','Risk Level Prediction']]\n",
    "# Convertimos Income Level a una variable binaria si es necesario\n",
    "X['Income Level'] = X['Income Level'].apply(lambda x: 1 if x == 'High income' else 0)\n",
    "y = final_data['Severity Score']\n",
    "\n",
    "# Create and train the model\n",
    "model = LinearRegression()\n",
    "model.fit(X, y)\n",
    "\n",
    "# coefficients\n",
    "print(f\"coefficients: {model.coef_}\")\n"
   ]
  },
  {
   "cell_type": "code",
   "execution_count": null,
   "id": "fda6222c-ed43-47d9-8762-3d4d710ac324",
   "metadata": {},
   "outputs": [],
   "source": []
  }
 ],
 "metadata": {
  "kernelspec": {
   "display_name": "Python 3 (ipykernel)",
   "language": "python",
   "name": "python3"
  },
  "language_info": {
   "codemirror_mode": {
    "name": "ipython",
    "version": 3
   },
   "file_extension": ".py",
   "mimetype": "text/x-python",
   "name": "python",
   "nbconvert_exporter": "python",
   "pygments_lexer": "ipython3",
   "version": "3.11.7"
  }
 },
 "nbformat": 4,
 "nbformat_minor": 5
}
